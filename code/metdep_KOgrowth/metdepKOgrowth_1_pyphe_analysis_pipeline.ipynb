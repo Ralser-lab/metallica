{
 "cells": [
  {
   "cell_type": "markdown",
   "id": "91e4f421-d4e6-408a-ac97-abe66afdbc9b",
   "metadata": {},
   "source": [
    "## 1. Run gitter on all images\n",
    "\n",
    "The gitter script consists of only two lines:\n",
    "```\n",
    "library(\"gitter\")\n",
    "#gitter.batch(\".\", plate.format=1536, inverse=\"TRUE\", remove.noise=\"TRUE\", grid.save=\"grid_images\", dat.save=\"dat_files\")\n",
    "```"
   ]
  },
  {
   "cell_type": "code",
   "execution_count": 1,
   "id": "fc65d399-402e-47ed-a3aa-2128e1e648a2",
   "metadata": {},
   "outputs": [
    {
     "name": "stdout",
     "output_type": "stream",
     "text": [
      "[Errno 2] No such file or directory: '20181216_assayPlates_2d/'\n",
      "/Users/aulakhs/Documents/RalserLab/metallica/experiment_data/metdep_KOgrowth/pyphe\n",
      "/Users/aulakhs/Documents/RalserLab/metallica/experiment_data/metdep_KOgrowth\n"
     ]
    }
   ],
   "source": [
    "#%cd 20181216_assayPlates_2d/\n",
    "#!Rscript gitter_script.R > gitter_log.txt\n",
    "#%cd .."
   ]
  },
  {
   "cell_type": "code",
   "execution_count": null,
   "id": "4edd129d",
   "metadata": {},
   "outputs": [],
   "source": []
  },
  {
   "cell_type": "markdown",
   "id": "76fa778a-47f2-45d1-a192-4782e5d60519",
   "metadata": {},
   "source": [
    "The .dat files produced by gitter are found in ./20181216_assayPlates_2d/dat_files/"
   ]
  },
  {
   "cell_type": "markdown",
   "id": "36c5aad9-8f24-470c-a3ff-87a314862c79",
   "metadata": {},
   "source": [
    "## 2. Run pyphe-analyse for grid normalisation and data aggregation\n",
    "\n",
    "The EDT file, which contains all relevant plate metadata, was created separately and looks as follows"
   ]
  },
  {
   "cell_type": "code",
   "execution_count": null,
   "id": "3b7da20e-feb4-4023-934d-5f301b69bc67",
   "metadata": {},
   "outputs": [],
   "source": [
    "import pandas as pd\n",
    "edt = pd.read_csv('pyphe/20190122_exp_data_2d.csv', index_col=0)\n",
    "edt"
   ]
  },
  {
   "cell_type": "code",
   "execution_count": null,
   "id": "9ea92f84-9ae2-45b8-94c9-40665d3691e4",
   "metadata": {},
   "outputs": [],
   "source": [
    "!pyphe-analyse --edt 20190122_exp_data_2d.csv --format gitter --out pyphe-analyse-report.csv --gridnorm standard1536 --extrapolate_corners --rcmedian --qc_plots qc_plots \n",
    "\n"
   ]
  },
  {
   "cell_type": "markdown",
   "id": "7571fbc9-9195-4270-8ee1-17aea3ca5ecd",
   "metadata": {},
   "source": [
    "## 3. Add layout information"
   ]
  },
  {
   "cell_type": "code",
   "execution_count": null,
   "id": "910b99c5-a615-4d2c-8267-497ca86c9347",
   "metadata": {},
   "outputs": [],
   "source": [
    "### load pyphe-analyse data report\n",
    "ld = pd.read_csv('pyphe/pyphe-analyse-report.csv', index_col=0)\n",
    "\n",
    "ld['Assay_plate_position'] = ld['Layout'] + '_' + ld['Row'].astype(str) + '_' + ld['Column'].astype(str)\n",
    "\n",
    "#Remove columns redundant with layout table\n",
    "ld = ld.drop(['Layout', 'Row', 'Column', 'Arrangement'], axis=1)\n",
    "\n",
    "### Load layout\n",
    "layout = pd.read_csv('pyphe/20190122_screenArrangementLayout.csv', index_col=0)\n",
    "ld = ld.join(layout, on='Assay_plate_position')\n",
    "\n",
    "ld"
   ]
  },
  {
   "cell_type": "markdown",
   "id": "dfd650fb-5f04-45fd-9159-8be5cc7bf7b0",
   "metadata": {},
   "source": [
    "## 4. perform QC checks on the data"
   ]
  },
  {
   "cell_type": "code",
   "execution_count": null,
   "id": "158c7d5e-5e3f-4edf-a8bc-036357f431f6",
   "metadata": {},
   "outputs": [],
   "source": [
    "### check footprints (should be empty)\n",
    "from matplotlib import pyplot as plt\n",
    "import seaborn as sns\n",
    "from collections import Counter\n",
    "\n",
    "footprints = ld.loc[pd.isnull(ld['ID'])]\n",
    "print(len(footprints.index))\n",
    "contaminations = footprints.loc[footprints['Colony_size']>0]\n",
    "contaminations[['Comment', 'Colony_size']]\n",
    "print(len(contaminations.index))\n",
    "\n",
    "fig, ax = plt.subplots(figsize=(10,3))\n",
    "\n",
    "plate_counts = pd.Series(Counter(contaminations['Plate']))\n",
    "plate_counts.plot(kind='bar', ax=ax)\n",
    "ax.set_xlabel('Source plate')\n",
    "ax.set_ylabel('number of contaminated footprints')\n",
    "\n",
    "#out of 4875 footprints, only 49 are contaminated (~1%), in almost all plates where a footprint was contaminated only one position was contaminated, indicating no systematic error\n",
    "#Plate dI_K50_2 will have to be excluded, had 13 wrong footprints\n"
   ]
  },
  {
   "cell_type": "code",
   "execution_count": null,
   "id": "8fb63ca8-544b-4a36-994d-655831030098",
   "metadata": {},
   "outputs": [],
   "source": [
    "#3. Checking the efficiency of grid correction with control grid\n",
    "from scipy.stats import linregress\n",
    "sns.set(font_scale=1.3, style='white')\n",
    "\n",
    "fig, ax = plt.subplots(1, 3, figsize=(13,4), gridspec_kw={'width_ratios':[1.7, 1, 3]})\n",
    "\n",
    "extragrid_ld = ld.loc[(ld['Cryostock_96_Plate']=='Pextragrid')]\n",
    "print(len(extragrid_ld.index))\n",
    "sns.regplot('Reference_surface', 'Colony_size', data=extragrid_ld, marker='o', scatter_kws={'facecolors':'none', 'alpha':0.5}, ax=ax[0])\n",
    "ax[0].plot([0,2500], [0,2500], color='r')\n",
    "corr = extragrid_ld[['Reference_surface','Colony_size']].corr().loc['Reference_surface','Colony_size']\n",
    "ax[0].set_title('r=%.3f'%corr)\n",
    "\n",
    "cspqc = extragrid_ld['Colony_size_corr_checked'].dropna()\n",
    "sns.kdeplot(cspqc, ax=ax[1], clip=(0,2), legend=False)\n",
    "print(len(cspqc.index), cspqc.mean(), cspqc.std())\n",
    "ax[1].set_title('%.3f +/- %.3f'%(cspqc.mean(), cspqc.std()))\n",
    "ax[1].set_xlabel('Corrected colony size \\n of extra grid')\n",
    "ax[1].set_ylabel('Density')\n",
    "\n",
    "\n",
    "pos_prec = pd.DataFrame(index=range(1,33), columns=range(1,49), dtype=float)\n",
    "pos_prec.update(extragrid_ld.pivot_table(index='Assayplate_row', columns='Assayplate_col', values='Colony_size_corr_checked'))  \n",
    "sns.heatmap(pos_prec, ax=ax[2])\n",
    "ax[2].set_title('Mean corrected colony size of extra grid')\n",
    "ax[2].set_xlabel('Row')\n",
    "ax[2].set_ylabel('Column')\n",
    "\n",
    "plt.tight_layout()\n"
   ]
  },
  {
   "cell_type": "code",
   "execution_count": null,
   "id": "d275ecb5-1d22-486d-9ad5-f8be8e94e587",
   "metadata": {},
   "outputs": [],
   "source": [
    "#4. Checking the technical correlation of within-plate repeats\n",
    "reps = ld.loc[(ld['Arrangement_multiplex_position']=='A2') | (ld['Arrangement_multiplex_position']=='C1')]\n",
    "reps_uncorr = reps.pivot_table(index='ID', columns='Arrangement_multiplex_position', values='Colony_size')\n",
    "reps_corr = reps.pivot_table(index='ID', columns='Arrangement_multiplex_position', values='Colony_size_corr_checked')\n",
    "\n",
    "fig, ax = plt.subplots(1,2, figsize=(5*1.618, 4))\n",
    "\n",
    "sns.regplot('A2', 'C1', data=reps_uncorr, marker='o', scatter_kws={'facecolors':'none', 'alpha':0.5}, ax=ax[0])\n",
    "ax[0].set_title('Raw colony size, r=0.78')\n",
    "ax[0].set_xlabel('Repeat 1 (A2)')\n",
    "ax[0].set_ylabel('Repeat 2 (C1)')\n",
    "\n",
    "print(reps_uncorr.corr())\n",
    "\n",
    "sns.regplot('A2', 'C1', data=reps_corr, marker='o', scatter_kws={'facecolors':'none', 'alpha':0.5}, ax=ax[1])\n",
    "ax[1].set_xlim((0,2.5))\n",
    "ax[1].set_ylim((0,2.5))\n",
    "ax[1].set_title('Corrected colony size, r=0.93')\n",
    "ax[1].set_xlabel('Repeat 1 (A2)')\n",
    "ax[1].set_ylabel('Repeat 2 (C1)')\n",
    "print(reps_corr.corr())\n",
    "\n",
    "plt.tight_layout()\n"
   ]
  },
  {
   "cell_type": "code",
   "execution_count": null,
   "id": "dcf21a35-32fa-4e2d-aec3-0e9751192ae4",
   "metadata": {},
   "outputs": [],
   "source": [
    "### exclude some data based on manual inspection\n",
    "import numpy as np\n",
    "\n",
    "#copy the corrected fitness data for further manual cleaning\n",
    "ld['Colony_size_corr_postQC'] = ld['Colony_size_corr_checked'].copy()\n",
    "\n",
    "print(\"shape before filters:\")\n",
    "print(ld.shape)\n",
    "\n",
    "#Exclude dI_K50 plate , all footprints are wrong\n",
    "print(ld['Colony_size_corr_postQC'].isna().sum())\n",
    "ld.loc[ld['Plate']=='dI_K50_2', 'Colony_size_corr_postQC'] = np.nan\n",
    "print(ld['Colony_size_corr_postQC'].isna().sum())\n",
    "\n",
    "#aV (all conditions!!), row 20-28, & col 14-21 (smudged colonies on combinedPlate)\n",
    "ld.loc[(ld['Layout']=='aV') & (ld['Assayplate_col']>13) & (ld['Assayplate_col']<22) \n",
    "                & (ld['Assayplate_row']>19) & (ld['Assayplate_row']<29), 'Colony_size_corr_postQC'] = np.nan\n",
    "print(ld['Colony_size_corr_postQC'].isna().sum())\n",
    "\n",
    "#bIII_K20: row 3-5 & col 45-48 (inclusive) (smudged colonies), both timepoints!\n",
    "ld.loc[(ld['Layout']=='bIII') & (ld['Condition']=='K20')\n",
    "                & (ld['Assayplate_col']>44) & (ld['Assayplate_col']<49) \n",
    "                & (ld['Assayplate_row']>2) & (ld['Assayplate_row']<6), 'Colony_size_corr_postQC'] = np.nan\n",
    "print(ld['Colony_size_corr_postQC'].isna().sum())\n",
    "\n",
    "#bII_Ca_2: row 32, col 36 (obscuring object)\n",
    "ld.loc[(ld['Plate']=='bII_Ca_2') \n",
    "                & (ld['Assayplate_col']==36) & (ld['Assayplate_row']==32), 'Colony_size_corr_postQC'] = np.nan\n",
    "print(ld['Colony_size_corr_postQC'].isna().sum())\n",
    "\n",
    "#bII_Zn1000 row 1-10, col 38-48 (weird strong growth in corner, media not well mixed?)\n",
    "ld.loc[(ld['Layout']=='bII') & (ld['Condition']=='Zn1000')\n",
    "                & (ld['Assayplate_col']>37) & (ld['Assayplate_col']<49) \n",
    "                & (ld['Assayplate_row']>0) & (ld['Assayplate_row']<11), 'Colony_size_corr_postQC'] = np.nan\n",
    "print(ld['Colony_size_corr_postQC'].isna().sum())\n",
    "\n",
    "\n",
    "#export final ld\n",
    "ld.to_csv('pyphe-analyse-report_postQC.csv')\n",
    "\n",
    "print(\"shape after filters:\")\n",
    "print(ld.shape)"
   ]
  },
  {
   "cell_type": "markdown",
   "id": "a436ca29-73e6-4fdc-ba34-d3d33fea52fd",
   "metadata": {},
   "source": [
    "## 5. Run pyphe-interpret"
   ]
  },
  {
   "cell_type": "code",
   "execution_count": null,
   "id": "3e285990-3882-4393-913e-bbfd1cb101d6",
   "metadata": {},
   "outputs": [],
   "source": [
    "!pyphe-interpret --ld pyphe-analyse-report_postQC.csv --out pyphe-interpret --grouping_column ID --axis_column Condition --values_column Colony_size_corr_postQC --control AE --circularity 0.9 --set_missing_na \n"
   ]
  },
  {
   "cell_type": "markdown",
   "id": "d75c3dcc-507c-4911-a636-197ddc03c1f6",
   "metadata": {},
   "source": [
    "## 6. quick checks on the hits"
   ]
  },
  {
   "cell_type": "code",
   "execution_count": null,
   "id": "f086c78a-20b0-4654-afa3-02e5496bcad9",
   "metadata": {},
   "outputs": [],
   "source": [
    "hd = pd.read_csv('pyphe-interpret_summaryStats.csv', header=[0,1], index_col=0)\n",
    "hd.index.name = 'Gene'\n",
    "hd.columns = hd.columns.set_names(['Condition',''])\n",
    "hd"
   ]
  },
  {
   "cell_type": "code",
   "execution_count": null,
   "id": "93a14cca-c6fa-4eff-bd40-284d6e41bb65",
   "metadata": {},
   "outputs": [],
   "source": [
    "#check if the FDR correction is correct\n",
    "#confirms that correction for testing of multiple genes was done separately for each condition\n",
    "from statsmodels.stats.multitest import fdrcorrection\n",
    "fdr_check = hd[('K20','p_Welch')].copy().dropna()\n",
    "fdr_check = pd.Series(fdrcorrection(fdr_check)[1], index=fdr_check.index)\n",
    "fdr_check = pd.concat({'manual':fdr_check, 'pyphe':hd[('K20','p_Welch_BH')].dropna()}, axis=1)\n",
    "print((fdr_check['manual']-fdr_check['pyphe']).abs().max()) #some numerical inprecision is allowed\n",
    "fdr_check"
   ]
  },
  {
   "cell_type": "code",
   "execution_count": null,
   "id": "25bad84c-d434-4bbb-8840-db3db6f35a4b",
   "metadata": {},
   "outputs": [],
   "source": [
    "#rearrange table layout\n",
    "hd.columns = hd.columns.swaplevel()\n",
    "hd = hd.stack()\n",
    "hd"
   ]
  },
  {
   "cell_type": "code",
   "execution_count": null,
   "id": "7a2c5b88-ab97-4375-8273-ca6cc71c82d4",
   "metadata": {},
   "outputs": [],
   "source": [
    "hd['is_hit'] = (hd['p_Welch_BH'] < 0.05) & (hd['median_effect_size_log2'].abs() > 0.25)\n",
    "hd"
   ]
  },
  {
   "cell_type": "code",
   "execution_count": null,
   "id": "6bb913bf-77b1-4316-8077-c116dd441fd0",
   "metadata": {},
   "outputs": [],
   "source": [
    "hd.groupby('Condition')['is_hit'].sum()"
   ]
  },
  {
   "cell_type": "code",
   "execution_count": null,
   "id": "970238f4-20e2-4ce7-b5de-0cdb84cfd7bf",
   "metadata": {},
   "outputs": [],
   "source": []
  }
 ],
 "metadata": {
  "kernelspec": {
   "display_name": "Python 3 (ipykernel)",
   "language": "python",
   "name": "python3"
  },
  "language_info": {
   "codemirror_mode": {
    "name": "ipython",
    "version": 3
   },
   "file_extension": ".py",
   "mimetype": "text/x-python",
   "name": "python",
   "nbconvert_exporter": "python",
   "pygments_lexer": "ipython3",
   "version": "3.10.13"
  }
 },
 "nbformat": 4,
 "nbformat_minor": 5
}
